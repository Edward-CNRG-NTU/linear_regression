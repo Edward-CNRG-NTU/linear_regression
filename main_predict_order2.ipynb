{
 "cells": [
  {
   "cell_type": "code",
   "execution_count": 8,
   "metadata": {
    "collapsed": false
   },
   "outputs": [
    {
     "name": "stdout",
     "output_type": "stream",
     "text": [
      "id_0 ,  25.9068804903\nid_1 ,  63.9181422669\nid_10 ,  39.5568090984\nid_100 ,  11.6634504835\nid_101 ,  15.8293872758\nid_102 ,  12.5272006714\nid_103 ,  7.09887615531\nid_104 ,  12.4330517398\nid_105 ,  36.2293458669\nid_106 ,  26.8492968851\nid_107 ,  8.71027249072\nid_108 ,  16.0102554131\nid_109 ,  13.9568211384\nid_11 ,  56.7620301123\nid_110 ,  13.165427304\nid_111 ,  16.9425245701\nid_112 ,  16.2340596015\nid_113 ,  25.1835110442\nid_114 ,  17.3799524288\nid_115 ,  17.0416163736\nid_116 ,  5.5476120424\nid_117 ,  43.3304341096\nid_118 ,  27.8653957401\nid_119 ,  2.33829410804\nid_12 ,  36.4233240645\nid_120 ,  3.41227775166\nid_121 ,  11.8183228182\nid_122 ,  13.3468150069\nid_123 ,  12.5991103041\nid_124 ,  7.42465412352\nid_125 ,  24.9303667405\nid_126 ,  20.9202985979\nid_127 ,  8.855063972\nid_128 ,  19.3022302101\nid_129 ,  9.30188167553\nid_13 ,  41.6312783559\nid_130 ,  4.18497603985\nid_131 ,  34.5134779402\nid_132 ,  15.1772056833\nid_133 ,  18.9113815225\nid_134 ,  25.2864886547\nid_135 ,  23.929775701\nid_136 ,  10.6866015549\nid_137 ,  21.9124466627\nid_138 ,  80.9380960017\nid_139 ,  59.8392037608\nid_14 ,  25.0584355548\nid_140 ,  26.4548089919\nid_141 ,  16.5614503262\nid_142 ,  24.6044439129\nid_143 ,  7.01818682329\nid_144 ,  11.5865314813\nid_145 ,  10.7897810365\nid_146 ,  20.225461648\nid_147 ,  6.76252600797\nid_148 ,  13.0604136187\nid_149 ,  15.3893147473\nid_15 ,  15.6826562745\nid_150 ,  45.7840056266\nid_151 ,  21.1822873459\nid_152 ,  23.1474964214\nid_153 ,  12.9441588149\nid_154 ,  14.3380288968\nid_155 ,  23.2417825611\nid_156 ,  22.3313379286\nid_157 ,  36.56811673\nid_158 ,  3.5956290682\nid_159 ,  22.0905970764\nid_16 ,  52.2657339851\nid_160 ,  39.1879014475\nid_161 ,  19.5913306244\nid_162 ,  63.7527226822\nid_163 ,  17.3378119781\nid_164 ,  34.300263177\nid_165 ,  24.1264662844\nid_166 ,  24.0294646605\nid_167 ,  0.56866304172\nid_168 ,  69.7453670909\nid_169 ,  13.2975067742\nid_17 ,  24.9176376317\nid_170 ,  16.1318102561\nid_171 ,  72.9551598126\nid_172 ,  19.6603967027\nid_173 ,  1.84982487757\nid_174 ,  22.8891188098\nid_175 ,  -0.562957553221\nid_176 ,  9.50571002305\nid_177 ,  18.4133955536\nid_178 ,  18.5858925346\nid_179 ,  25.2007814497\nid_18 ,  17.0171635371\nid_180 ,  43.0923182072\nid_181 ,  32.4301979793\nid_182 ,  27.6069417254\nid_183 ,  12.116263172\nid_184 ,  6.89040742242\nid_185 ,  42.3376416499\nid_186 ,  36.0361812256\nid_187 ,  38.0565135403\nid_188 ,  18.054828081\nid_189 ,  24.6950525304\nid_19 ,  16.0684673742\nid_190 ,  16.6003860068\nid_191 ,  16.901320697\nid_192 ,  30.8608988469\nid_193 ,  63.9858740343\nid_194 ,  26.6176575635\nid_195 ,  11.3179734197\nid_196 ,  62.1528548522\nid_197 ,  16.3219286718\nid_198 ,  21.571986779\nid_199 ,  19.298039603\nid_2 ,  16.5991966629\nid_20 ,  14.7906454728\nid_200 ,  136.976701128\nid_201 ,  25.3743679341\nid_202 ,  60.2560241511\nid_203 ,  8.49410733018\nid_204 ,  59.1187031411\nid_205 ,  36.0355700546\nid_206 ,  16.214423413\nid_207 ,  16.3158803192\nid_208 ,  64.4936195719\nid_209 ,  14.8365401861\nid_21 ,  31.5248854009\nid_210 ,  41.7692429152\nid_211 ,  68.5919191451\nid_212 ,  19.1912088999\nid_213 ,  121.906290347\nid_214 ,  42.2207312043\nid_215 ,  76.5929765009\nid_216 ,  93.953904909\nid_217 ,  74.0659759306\nid_218 ,  26.9158561726\nid_219 ,  20.9727216399\nid_22 ,  40.7241587713\nid_220 ,  31.7087786004\nid_221 ,  44.7196264445\nid_222 ,  29.2173374438\nid_223 ,  38.4716589074\nid_224 ,  44.5442978112\nid_225 ,  9.64188653541\nid_226 ,  3.99790446682\nid_227 ,  84.80791434\nid_228 ,  29.8938191941\nid_229 ,  -1.2967898987\nid_23 ,  9.61872444064\nid_230 ,  40.8666132427\nid_231 ,  19.041257982\nid_232 ,  20.7046691398\nid_233 ,  9.36542626254\nid_234 ,  19.0730326296\nid_235 ,  29.9449956529\nid_236 ,  13.3725954747\nid_237 ,  4.88550400238\nid_238 ,  22.2886529377\nid_239 ,  12.0228708734\nid_24 ,  64.8725404476\nid_25 ,  45.3224802851\nid_26 ,  30.0698926358\nid_27 ,  7.54906256757\nid_28 ,  28.3265473015\nid_29 ,  36.7342714296\nid_3 ,  30.197515346\nid_30 ,  18.9128257509\nid_31 ,  12.8545710157\nid_32 ,  17.360922165\nid_33 ,  16.0434998951\nid_34 ,  16.3308109608\nid_35 ,  44.0926517642\nid_36 ,  22.8975892707\nid_37 ,  27.3503087357\nid_38 ,  6.44239842695\nid_39 ,  60.7773627069\nid_4 ,  8.43839888078\nid_40 ,  46.8999850151\nid_41 ,  21.1847633046\nid_42 ,  53.2062513379\nid_43 ,  19.3995697665\nid_44 ,  45.6231508757\nid_45 ,  47.1576567234\nid_46 ,  56.5605176302\nid_47 ,  41.7181853705\nid_48 ,  56.9688229695\nid_49 ,  39.9614140829\nid_5 ,  33.4874815723\nid_50 ,  29.9952591157\nid_51 ,  22.8779137901\nid_52 ,  42.0664849387\nid_53 ,  22.9127586934\nid_54 ,  37.0822523748\nid_55 ,  39.2297437027\nid_56 ,  25.4694967142\nid_57 ,  23.3191908141\nid_58 ,  35.4489856178\nid_59 ,  30.2383544074\nid_6 ,  42.1935865063\nid_60 ,  14.2163423406\nid_61 ,  17.7667773419\nid_62 ,  31.0899642474\nid_63 ,  53.9387134957\nid_64 ,  52.4739545696\nid_65 ,  29.1989230095\nid_66 ,  38.8633366379\nid_67 ,  52.3746587346\nid_68 ,  31.301752014\nid_69 ,  42.642740259\nid_7 ,  17.9071839724\nid_70 ,  64.6273491941\nid_71 ,  56.2148806219\nid_72 ,  41.5234090395\nid_73 ,  13.8541942393\nid_74 ,  14.9295887635\nid_75 ,  37.4749823246\nid_76 ,  61.9452963299\nid_77 ,  2.75249778426\nid_78 ,  42.421668436\nid_79 ,  42.499716374\nid_8 ,  50.6692526529\nid_80 ,  8.25205822675\nid_81 ,  22.9693768658\nid_82 ,  7.70709944009\nid_83 ,  31.4555236487\nid_84 ,  12.3231038769\nid_85 ,  7.4160255929\nid_86 ,  16.9275228606\nid_87 ,  10.5552468617\nid_88 ,  18.5668601071\nid_89 ,  27.5971866312\nid_9 ,  30.3593307369\nid_90 ,  34.0362746167\nid_91 ,  13.6300199473\nid_92 ,  12.9595814163\nid_93 ,  10.3244207295\nid_94 ,  37.0717814674\nid_95 ,  16.6750352776\nid_96 ,  16.8576453325\nid_97 ,  10.7410169637\nid_98 ,  11.538158695\nid_99 ,  5.3820018866\n"
     ]
    }
   ],
   "source": [
    "import json\n",
    "import csv\n",
    "import numpy as np\n",
    "\n",
    "json_load = json.load(open('result_order2.txt', 'r'))\n",
    "ws = json_load['ws']\n",
    "normal_table = json_load['normal_table']\n",
    "\n",
    "test_dict = {}\n",
    "for line in csv.reader(open('test_X.csv', 'r')):\n",
    "\n",
    "    try:\n",
    "        data = list(map(float, line[2:]))\n",
    "    except ValueError:\n",
    "        data = []\n",
    "        for x in line[2:]:\n",
    "            if x == 'NR':\n",
    "                data.append(float(0))\n",
    "            else:\n",
    "                data.append(float(x))\n",
    "\n",
    "    normalized_data = (np.array(data) - normal_table[line[1]]['min']) / normal_table[line[1]]['dif']\n",
    "\n",
    "    try:\n",
    "        test_dict[line[0]][line[1]] = normalized_data\n",
    "    except KeyError:\n",
    "        test_dict[line[0]] = {line[1]: normalized_data}\n",
    "\n",
    "outfile = open('output.csv', 'w')\n",
    "writer = csv.DictWriter(outfile, fieldnames=['id', 'value'])\n",
    "writer.writeheader()\n",
    "xs = {}\n",
    "for id_n in sorted(test_dict):\n",
    "    xs[id_n] = np.array([1,\n",
    "                         *test_dict[id_n]['AMB_TEMP'],\n",
    "                         *test_dict[id_n]['CH4'],\n",
    "                         *test_dict[id_n]['CO'],\n",
    "                         *test_dict[id_n]['NMHC'],\n",
    "                         *test_dict[id_n]['NO'],\n",
    "                         *test_dict[id_n]['NO2'],\n",
    "                         *test_dict[id_n]['NOx'],\n",
    "                         *test_dict[id_n]['O3'],\n",
    "                         *test_dict[id_n]['PM10'],\n",
    "                         *test_dict[id_n]['PM2.5'],\n",
    "                         *test_dict[id_n]['RAINFALL'],\n",
    "                         *test_dict[id_n]['RH'],\n",
    "                         *test_dict[id_n]['SO2'],\n",
    "                         *test_dict[id_n]['THC'],\n",
    "                         *test_dict[id_n]['WD_HR'],\n",
    "                         *test_dict[id_n]['WIND_DIREC'],\n",
    "                         *test_dict[id_n]['WIND_SPEED'],\n",
    "                         *test_dict[id_n]['WS_HR'],\n",
    "\n",
    "                         *np.power(test_dict[id_n]['AMB_TEMP'], 2),\n",
    "                         *np.power(test_dict[id_n]['CH4'], 2),\n",
    "                         *np.power(test_dict[id_n]['CO'], 2),\n",
    "                         *np.power(test_dict[id_n]['NMHC'], 2),\n",
    "                         *np.power(test_dict[id_n]['NO'], 2),\n",
    "                         *np.power(test_dict[id_n]['NO2'], 2),\n",
    "                         *np.power(test_dict[id_n]['NOx'], 2),\n",
    "                         *np.power(test_dict[id_n]['O3'], 2),\n",
    "                         *np.power(test_dict[id_n]['PM10'], 2),\n",
    "                         *np.power(test_dict[id_n]['PM2.5'], 2),\n",
    "                         *np.power(test_dict[id_n]['RAINFALL'], 2),\n",
    "                         *np.power(test_dict[id_n]['RH'], 2),\n",
    "                         *np.power(test_dict[id_n]['SO2'], 2),\n",
    "                         *np.power(test_dict[id_n]['THC'], 2),\n",
    "                         *np.power(test_dict[id_n]['WD_HR'], 2),\n",
    "                         *np.power(test_dict[id_n]['WIND_DIREC'], 2),\n",
    "                         *np.power(test_dict[id_n]['WIND_SPEED'], 2),\n",
    "                         *np.power(test_dict[id_n]['WS_HR'], 2)\n",
    "                         ])\n",
    "    y = np.dot(ws, xs[id_n])*normal_table['PM2.5']['dif'] + normal_table['PM2.5']['min']\n",
    "    writer.writerow({'id': id_n, 'value': y})\n",
    "    print(id_n, ', ', y)\n",
    "    # break"
   ]
  },
  {
   "cell_type": "code",
   "execution_count": 2,
   "metadata": {},
   "outputs": [
    {
     "name": "stdout",
     "output_type": "stream",
     "text": [
      "hello\n"
     ]
    }
   ],
   "source": [
    "print('hello')"
   ]
  }
 ],
 "metadata": {
  "kernelspec": {
   "display_name": "Python 2",
   "language": "python",
   "name": "python2"
  },
  "language_info": {
   "codemirror_mode": {
    "name": "ipython",
    "version": 2.0
   },
   "file_extension": ".py",
   "mimetype": "text/x-python",
   "name": "python",
   "nbconvert_exporter": "python",
   "pygments_lexer": "ipython2",
   "version": "2.7.6"
  }
 },
 "nbformat": 4,
 "nbformat_minor": 0
}