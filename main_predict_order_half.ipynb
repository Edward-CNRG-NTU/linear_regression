{
 "cells": [
  {
   "cell_type": "code",
   "execution_count": 3,
   "metadata": {
    "collapsed": false
   },
   "outputs": [
    {
     "name": "stdout",
     "output_type": "stream",
     "text": [
      "id_202 ,  39.2417032111\nid_183 ,  -6.82389192911\nid_89 ,  nan\nid_79 ,  27.9625689168\nid_126 ,  5.11236545616\nid_220 ,  12.0862721555\nid_9 ,  11.9126442412\nid_197 ,  -3.11523269203\nid_57 ,  1.4860022908\nid_32 ,  -4.21710354949\nid_105 ,  12.2772007854\nid_204 ,  43.1473542545\nid_165 ,  2.18963843941\nid_95 ,  -2.82626773215\nid_143 ,  -4.91432279195\nid_213 ,  91.8599454494\nid_120 ,  -13.3695765687\nid_201 ,  9.02812437925\nid_7 ,  -4.79334935931\nid_56 ,  5.78903629857\nid_184 ,  -15.0989950786\nid_203 ,  -11.3139316555\nid_129 ,  -5.04994947834\nid_177 ,  -1.83372710154\nid_154 ,  3.2347331089\nid_149 ,  -0.151105323195\nid_65 ,  4.33327446504\nid_38 ,  -9.22024200098\nid_195 ,  -3.72105358835\nid_104 ,  -0.453364747914\nid_113 ,  8.97109014897\nid_205 ,  23.6431686481\nid_237 ,  -26.9431058888\nid_70 ,  48.0667632765\nid_210 ,  10.3326466947\nid_103 ,  -17.4953240604\nid_181 ,  11.9493007387\nid_76 ,  41.2323732155\nid_179 ,  2.1195732363\nid_212 ,  2.49633344341\nid_156 ,  7.83037334868\nid_119 ,  -15.112754906\nid_101 ,  4.97909685569\nid_82 ,  -15.4112509067\nid_178 ,  -2.36076501272\nid_232 ,  2.96967519682\nid_142 ,  5.31675078611\nid_51 ,  9.89747644176\nid_174 ,  8.6133964688\nid_2 ,  1.32873404553\nid_219 ,  -2.80032572574\nid_93 ,  -10.1032866665\nid_114 ,  6.41234679689\nid_60 ,  -2.34228123181\nid_146 ,  6.39819027811\nid_100 ,  -8.93154875124\nid_173 ,  -16.8791008546\nid_21 ,  15.81766202\nid_10 ,  17.5001564837\nid_66 ,  23.4321805232\nid_43 ,  1.29390736449\nid_170 ,  -0.1382738408\nid_161 ,  0.537403142555\nid_117 ,  25.186985923\nid_128 ,  4.1605646733\nid_236 ,  -3.14337669174\nid_132 ,  6.37487312522\nid_29 ,  13.5869800238\nid_46 ,  40.7394441136\nid_28 ,  9.62086704031\nid_224 ,  25.505435743\nid_71 ,  37.1967160365\nid_35 ,  18.1018904097\nid_109 ,  -3.12035339786\nid_231 ,  -0.388204151791\nid_58 ,  15.7973722936\nid_37 ,  8.79997929649\nid_19 ,  -5.88186544875\nid_86 ,  -2.85554816519\nid_11 ,  41.4688860359\nid_188 ,  -2.21545319033\nid_209 ,  -4.70083576701\nid_63 ,  37.6165281195\nid_0 ,  5.18563355778\nid_216 ,  71.4352504876\nid_110 ,  -4.17499069423\nid_124 ,  -9.34701864964\nid_42 ,  35.6645119881\nid_211 ,  48.205400776\nid_222 ,  6.07388244889\nid_80 ,  -10.6542556533\nid_4 ,  -12.3229679999\nid_223 ,  13.9566532221\nid_111 ,  3.91470953393\nid_131 ,  14.8881399379\nid_96 ,  -3.08842112806\nid_54 ,  19.6312560367\nid_234 ,  -0.423375074892\nid_155 ,  14.7095568943\nid_130 ,  -12.0641140698\nid_121 ,  -17.6843067703\nid_139 ,  43.3752412473\nid_48 ,  29.6038484912\nid_55 ,  18.2932605808\nid_49 ,  22.4409764945\nid_190 ,  -3.76829703379\nid_229 ,  -18.2478646186\nid_227 ,  45.8456658646\nid_148 ,  -2.14163935384\nid_221 ,  37.3560877909\nid_194 ,  15.8655360405\nid_36 ,  5.44788375677\nid_1 ,  36.3538949904\nid_198 ,  1.62933542949\nid_233 ,  -9.99016140944\nid_92 ,  -9.52419937749\nid_218 ,  21.7407873121\nid_125 ,  6.85794898102\nid_238 ,  -0.0818151630784\nid_206 ,  -1.74751653124\nid_33 ,  -10.5348039949\nid_14 ,  6.37471886995\nid_72 ,  20.9187297306\nid_116 ,  -8.07875355459\nid_147 ,  -4.76736959726\nid_98 ,  -6.13728697233\nid_239 ,  -19.648186964\nid_8 ,  28.8141090657\nid_74 ,  -9.23055270943\nid_230 ,  19.7195672138\nid_53 ,  5.93158508289\nid_15 ,  -9.48894240891\nid_30 ,  0.0286913574599\nid_78 ,  29.0148600806\nid_193 ,  41.7870127005\nid_83 ,  15.5072708318\nid_196 ,  47.4548049553\nid_41 ,  -4.53282931965\nid_25 ,  19.9753173738\nid_97 ,  -12.6413588841\nid_13 ,  14.5894026503\nid_127 ,  -2.87223130536\nid_226 ,  -16.7671053707\nid_24 ,  44.2123843064\nid_215 ,  63.0223113657\nid_31 ,  -6.69652296373\nid_144 ,  -6.44504553139\nid_69 ,  22.3198088238\nid_172 ,  -1.02491720536\nid_84 ,  -9.79632007814\nid_186 ,  19.1250999369\nid_67 ,  35.3807045321\nid_140 ,  12.5681687778\nid_5 ,  12.2997635278\nid_164 ,  13.7975537658\nid_20 ,  0.298052121896\nid_3 ,  8.74432404176\nid_50 ,  12.608600383\nid_91 ,  -11.0039760858\nid_228 ,  9.46072341116\nid_68 ,  9.38178712159\nid_159 ,  9.90268485644\nid_94 ,  18.7097488673\nid_185 ,  19.4046226146\nid_208 ,  43.6647200264\nid_150 ,  31.9252281627\nid_107 ,  -11.6831856842\nid_207 ,  -1.01531252922\nid_108 ,  1.09810902988\nid_182 ,  6.7139779037\nid_47 ,  19.0701169957\nid_61 ,  8.24517897338\nid_85 ,  -15.8716766697\nid_115 ,  -6.42130006426\nid_235 ,  5.56567299652\nid_112 ,  -1.59205820229\nid_166 ,  0.639522789524\nid_176 ,  -10.311442406\nid_134 ,  7.58333418315\nid_169 ,  -6.71510913735\nid_45 ,  28.9102818756\nid_167 ,  -19.683267715\nid_137 ,  1.27958342032\nid_22 ,  24.8536833848\nid_73 ,  -6.12858595899\nid_225 ,  -5.80370429576\nid_151 ,  4.40454238278\nid_59 ,  19.2049130904\nid_106 ,  12.0394937108\nid_16 ,  35.1295387187\nid_138 ,  55.2217298539\nid_99 ,  -9.19554146724\nid_145 ,  -7.88720171795\nid_81 ,  1.12315435629\nid_217 ,  53.438418665\nid_171 ,  49.6537342888\nid_26 ,  9.99507937977\nid_187 ,  15.9627032411\nid_62 ,  16.8468678478\nid_160 ,  24.7242771163\nid_102 ,  -3.14100957592\nid_17 ,  1.06122053149\nid_168 ,  46.6042714682\nid_135 ,  6.58200890683\nid_153 ,  -5.69904174317\nid_122 ,  -2.66531571588\nid_192 ,  13.271554125\nid_157 ,  12.7257039423\nid_180 ,  21.9834160627\nid_214 ,  24.5340879916\nid_12 ,  14.5143645819\nid_118 ,  10.9030963166\nid_34 ,  -4.16696200672\nid_87 ,  -10.1813996582\nid_90 ,  20.0035012418\nid_44 ,  29.8847831798\nid_23 ,  -11.7004821269\nid_141 ,  3.62672423867\nid_77 ,  -17.0139777425\nid_189 ,  1.87829080178\nid_175 ,  -21.9877297783\nid_39 ,  43.5682396163\nid_133 ,  11.6333137026\nid_88 ,  -3.59760195924\nid_163 ,  3.10504847873\nid_123 ,  -4.48367259499\nid_199 ,  1.74854546993\nid_191 ,  -0.952393202464\nid_27 ,  -13.6379906873\nid_158 ,  -15.1710789625\nid_6 ,  19.8318939614\nid_162 ,  38.4460498022\nid_52 ,  19.1595098444\nid_40 ,  26.8838602896\nid_200 ,  96.7694022584\nid_152 ,  6.19855409162\nid_136 ,  -3.17097335244\nid_18 ,  -5.19661431495\nid_64 ,  30.9577849073\nid_75 ,  20.1624901615\n"
     ]
    },
    {
     "name": "stderr",
     "output_type": "stream",
     "text": [
      "/usr/local/lib/python3.5/dist-packages/ipykernel/__main__.py:66: RuntimeWarning: invalid value encountered in power\n"
     ]
    }
   ],
   "source": [
    "import json\n",
    "import csv\n",
    "import numpy as np\n",
    "\n",
    "json_load = json.load(open('result_order2.txt', 'r'))\n",
    "ws = json_load['ws']\n",
    "normal_table = json_load['normal_table']\n",
    "\n",
    "test_dict = {}\n",
    "for line in csv.reader(open('test_X.csv', 'r')):\n",
    "\n",
    "    try:\n",
    "        data = list(map(float, line[2:]))\n",
    "    except ValueError:\n",
    "        data = []\n",
    "        for x in line[2:]:\n",
    "            if x == 'NR':\n",
    "                data.append(float(0))\n",
    "            else:\n",
    "                data.append(float(x))\n",
    "\n",
    "    normalized_data = (np.array(data) - normal_table[line[1]]['min']) / normal_table[line[1]]['dif']\n",
    "\n",
    "    try:\n",
    "        test_dict[line[0]][line[1]] = normalized_data\n",
    "    except KeyError:\n",
    "        test_dict[line[0]] = {line[1]: normalized_data}\n",
    "\n",
    "outfile = open('output.csv', 'w')\n",
    "writer = csv.DictWriter(outfile, fieldnames=['id', 'value'])\n",
    "writer.writeheader()\n",
    "xs = {}\n",
    "for id_n in test_dict:\n",
    "    xs[id_n] = np.array([1,\n",
    "                         *test_dict[id_n]['AMB_TEMP'],\n",
    "                         *test_dict[id_n]['CH4'],\n",
    "                         *test_dict[id_n]['CO'],\n",
    "                         *test_dict[id_n]['NMHC'],\n",
    "                         *test_dict[id_n]['NO'],\n",
    "                         *test_dict[id_n]['NO2'],\n",
    "                         *test_dict[id_n]['NOx'],\n",
    "                         *test_dict[id_n]['O3'],\n",
    "                         *test_dict[id_n]['PM10'],\n",
    "                         *test_dict[id_n]['PM2.5'],\n",
    "                         *test_dict[id_n]['RAINFALL'],\n",
    "                         *test_dict[id_n]['RH'],\n",
    "                         *test_dict[id_n]['SO2'],\n",
    "                         *test_dict[id_n]['THC'],\n",
    "                         *test_dict[id_n]['WD_HR'],\n",
    "                         *test_dict[id_n]['WIND_DIREC'],\n",
    "                         *test_dict[id_n]['WIND_SPEED'],\n",
    "                         *test_dict[id_n]['WS_HR'],\n",
    "\n",
    "                         *np.power(test_dict[id_n]['AMB_TEMP'], 0.5),\n",
    "                         *np.power(test_dict[id_n]['CH4'], 0.5),\n",
    "                         *np.power(test_dict[id_n]['CO'], 0.5),\n",
    "                         *np.power(test_dict[id_n]['NMHC'], 0.5),\n",
    "                         *np.power(test_dict[id_n]['NO'], 0.5),\n",
    "                         *np.power(test_dict[id_n]['NO2'], 0.5),\n",
    "                         *np.power(test_dict[id_n]['NOx'], 0.5),\n",
    "                         *np.power(test_dict[id_n]['O3'], 0.5),\n",
    "                         *np.power(test_dict[id_n]['PM10'], 0.5),\n",
    "                         *np.power(test_dict[id_n]['PM2.5'], 0.5),\n",
    "                         *np.power(test_dict[id_n]['RAINFALL'], 0.5),\n",
    "                         *np.power(test_dict[id_n]['RH'], 0.5),\n",
    "                         *np.power(test_dict[id_n]['SO2'], 0.5),\n",
    "                         *np.power(test_dict[id_n]['THC'], 0.5),\n",
    "                         *np.power(test_dict[id_n]['WD_HR'], 0.5),\n",
    "                         *np.power(test_dict[id_n]['WIND_DIREC'], 0.5),\n",
    "                         *np.power(test_dict[id_n]['WIND_SPEED'], 0.5),\n",
    "                         *np.power(test_dict[id_n]['WS_HR'], 0.5)\n",
    "                         ])\n",
    "    y = np.dot(ws, xs[id_n])*normal_table['PM2.5']['dif'] + normal_table['PM2.5']['min']\n",
    "    writer.writerow({'id': id_n, 'value': y})\n",
    "    print(id_n, ', ', y)\n",
    "    # break"
   ]
  },
  {
   "cell_type": "code",
   "execution_count": 2,
   "metadata": {},
   "outputs": [
    {
     "name": "stdout",
     "output_type": "stream",
     "text": [
      "hello\n"
     ]
    }
   ],
   "source": [
    "print('hello')"
   ]
  }
 ],
 "metadata": {
  "kernelspec": {
   "display_name": "Python 2",
   "language": "python",
   "name": "python2"
  },
  "language_info": {
   "codemirror_mode": {
    "name": "ipython",
    "version": 2.0
   },
   "file_extension": ".py",
   "mimetype": "text/x-python",
   "name": "python",
   "nbconvert_exporter": "python",
   "pygments_lexer": "ipython2",
   "version": "2.7.6"
  }
 },
 "nbformat": 4,
 "nbformat_minor": 0
}